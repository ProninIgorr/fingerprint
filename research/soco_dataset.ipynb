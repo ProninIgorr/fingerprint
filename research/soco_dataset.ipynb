{
  "nbformat": 4,
  "nbformat_minor": 0,
  "metadata": {
    "colab": {
      "private_outputs": true,
      "provenance": []
    },
    "kernelspec": {
      "name": "python3",
      "display_name": "Python 3"
    },
    "language_info": {
      "name": "python"
    }
  },
  "cells": [
    {
      "cell_type": "code",
      "execution_count": null,
      "metadata": {
        "id": "6T1MKssTXFKk"
      },
      "outputs": [],
      "source": [
        "GOOGLE_DRIVE_DIR = '/content/drive/MyDrive/soco'\n"
      ]
    },
    {
      "cell_type": "code",
      "source": [
        "try:\n",
        "    from google.colab import drive\n",
        "    print('colab env - ok')\n",
        "    drive.mount('/content/drive')\n",
        "    print('google drive mounted - ok')\n",
        "    if os.path.exists(GOOGLE_DRIVE_DIR):\n",
        "        print(f'google drive dir {GOOGLE_DRIVE_DIR} exists - ok')\n",
        "except:\n",
        "    print('no colab')"
      ],
      "metadata": {
        "id": "q01ENyjEXG3P"
      },
      "execution_count": null,
      "outputs": []
    },
    {
      "cell_type": "code",
      "source": [
        "# # !pip install -q kaggle\n",
        "# import os\n",
        "# os.environ['KAGGLE_USERNAME'] = \"...\" # username from the json file\n",
        "# os.environ['KAGGLE_KEY'] = \"...\" # key from the json file\n",
        "# !kaggle competitions download -c journey-springfield\n",
        "!kaggle datasets download -d ruizgara/socofing -p '{GOOGLE_DRIVE_DIR}'"
      ],
      "metadata": {
        "id": "ED94ZbdTXn7P"
      },
      "execution_count": null,
      "outputs": []
    },
    {
      "cell_type": "code",
      "source": [
        "!unzip '{GOOGLE_DRIVE_DIR}/socofing.zip' -d dataset"
      ],
      "metadata": {
        "id": "ghjbzogmYR07"
      },
      "execution_count": null,
      "outputs": []
    },
    {
      "cell_type": "code",
      "source": [
        "!ls dataset/socofing/SOCOFing/Real/"
      ],
      "metadata": {
        "id": "J8zWzKdlYZKz"
      },
      "execution_count": null,
      "outputs": []
    },
    {
      "cell_type": "code",
      "source": [],
      "metadata": {
        "id": "L6MOIuNpl90_"
      },
      "execution_count": null,
      "outputs": []
    },
    {
      "cell_type": "code",
      "source": [
        "!mkdir dataset/socofing_real_examples"
      ],
      "metadata": {
        "id": "v_fvNWLGf8h9"
      },
      "execution_count": null,
      "outputs": []
    },
    {
      "cell_type": "code",
      "source": [
        "!find dataset/socofing/SOCOFing/Real/ -maxdepth 1 -type f | head -n100 | xargs -I ~ cp -v ~ dataset/socofing_real_examples/"
      ],
      "metadata": {
        "id": "GGbNR13AZHAy"
      },
      "execution_count": null,
      "outputs": []
    },
    {
      "cell_type": "code",
      "source": [
        "!ls -la dataset/socofing_real_examples"
      ],
      "metadata": {
        "id": "OKLpZBjbeMU5"
      },
      "execution_count": null,
      "outputs": []
    },
    {
      "cell_type": "code",
      "source": [
        "!zip -jr dataset/socofing_real_examples dataset/socofing_real_examples/*"
      ],
      "metadata": {
        "id": "DpJU1LWWfgVN"
      },
      "execution_count": null,
      "outputs": []
    },
    {
      "cell_type": "code",
      "source": [
        "!ls -la dataset"
      ],
      "metadata": {
        "id": "Hz_9N5G5gL4C"
      },
      "execution_count": null,
      "outputs": []
    },
    {
      "cell_type": "code",
      "source": [
        "!cp -r dataset/socofing_real_examples.zip '{GOOGLE_DRIVE_DIR}'"
      ],
      "metadata": {
        "id": "SSd4eu1jgONV"
      },
      "execution_count": null,
      "outputs": []
    },
    {
      "cell_type": "code",
      "source": [
        "!unzip -l dataset/socofing_real_examples.zip"
      ],
      "metadata": {
        "id": "i_7ftP11hEcc"
      },
      "execution_count": null,
      "outputs": []
    },
    {
      "cell_type": "code",
      "source": [],
      "metadata": {
        "id": "jsdFG6vJvsw3"
      },
      "execution_count": null,
      "outputs": []
    }
  ]
}