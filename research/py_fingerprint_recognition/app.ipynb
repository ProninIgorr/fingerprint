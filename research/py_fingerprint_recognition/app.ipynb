{
 "cells": [
  {
   "cell_type": "code",
   "execution_count": 2,
   "outputs": [],
   "source": [
    "import cv2\n",
    "import os\n",
    "import sys\n",
    "import numpy\n",
    "import matplotlib.pyplot as plt\n",
    "from enhance import image_enhance\n",
    "from skimage.morphology import skeletonize, thin"
   ],
   "metadata": {
    "collapsed": false,
    "pycharm": {
     "name": "#%%\n"
    }
   }
  },
  {
   "cell_type": "code",
   "execution_count": 11,
   "outputs": [
    {
     "data": {
      "text/plain": "35.15625"
     },
     "execution_count": 11,
     "metadata": {},
     "output_type": "execute_result"
    }
   ],
   "source": [
    "6000 * 128 * (2*8 + 32) / 1024 / 1024"
   ],
   "metadata": {
    "collapsed": false,
    "pycharm": {
     "name": "#%%\n"
    }
   }
  },
  {
   "cell_type": "code",
   "execution_count": 3,
   "outputs": [],
   "source": [
    "ifn1, ifn2 = 'database/3__M_Right_thumb_finger.BMP', 'database/3__M_Right_thumb_finger2.BMP'"
   ],
   "metadata": {
    "collapsed": false,
    "pycharm": {
     "name": "#%%\n"
    }
   }
  },
  {
   "cell_type": "code",
   "execution_count": 8,
   "outputs": [],
   "source": [
    "img1_1 = cv2.imread('database/101_1.tif', cv2.IMREAD_GRAYSCALE)\n",
    "img1_2 = cv2.imread('database/101_2.tif', cv2.IMREAD_GRAYSCALE)"
   ],
   "metadata": {
    "collapsed": false,
    "pycharm": {
     "name": "#%%\n"
    }
   }
  },
  {
   "cell_type": "code",
   "execution_count": 4,
   "outputs": [],
   "source": [
    "img1 = cv2.imread(ifn1, cv2.IMREAD_GRAYSCALE)\n"
   ],
   "metadata": {
    "collapsed": false,
    "pycharm": {
     "name": "#%%\n"
    }
   }
  },
  {
   "cell_type": "code",
   "execution_count": null,
   "metadata": {
    "collapsed": true
   },
   "outputs": [],
   "source": [
    "\timage_name = sys.argv[1]\n",
    "\timg1 = cv2.imread(\"database/\" + image_name, cv2.IMREAD_GRAYSCALE)\n",
    "\tkp1, des1 = get_descriptors(img1)\n",
    "\n",
    "\timage_name = sys.argv[2]\n",
    "\timg2 = cv2.imread(\"database/\" + image_name, cv2.IMREAD_GRAYSCALE)\n",
    "\tkp2, des2 = get_descriptors(img2)\n",
    "\n",
    "\t# Matching between descriptors\n",
    "\tbf = cv2.BFMatcher(cv2.NORM_HAMMING, crossCheck=True)\n",
    "\tmatches = sorted(bf.match(des1, des2), key= lambda match:match.distance)\n",
    "\t# Plot keypoints\n",
    "\timg4 = cv2.drawKeypoints(img1, kp1, outImage=None)\n",
    "\timg5 = cv2.drawKeypoints(img2, kp2, outImage=None)\n",
    "\tf, axarr = plt.subplots(1,2)\n",
    "\taxarr[0].imshow(img4)\n",
    "\taxarr[1].imshow(img5)\n",
    "\tplt.show()\n",
    "\t# Plot matches\n",
    "\timg3 = cv2.drawMatches(img1, kp1, img2, kp2, matches, flags=2, outImg=None)\n",
    "\tplt.imshow(img3)\n",
    "\tplt.show()\n",
    "\n",
    "\t# Calculate score\n",
    "\tscore = 0;\n",
    "\tfor match in matches:\n",
    "\t\tscore += match.distance\n",
    "\tscore_threshold = 33\n",
    "\tif score/len(matches) < score_threshold:\n",
    "\t\tprint(\"Fingerprint matches.\")\n",
    "\telse:\n",
    "\t\tprint(\"Fingerprint does not match.\")\n"
   ]
  }
 ],
 "metadata": {
  "kernelspec": {
   "display_name": "Python 3",
   "language": "python",
   "name": "python3"
  },
  "language_info": {
   "codemirror_mode": {
    "name": "ipython",
    "version": 2
   },
   "file_extension": ".py",
   "mimetype": "text/x-python",
   "name": "python",
   "nbconvert_exporter": "python",
   "pygments_lexer": "ipython2",
   "version": "2.7.6"
  }
 },
 "nbformat": 4,
 "nbformat_minor": 0
}